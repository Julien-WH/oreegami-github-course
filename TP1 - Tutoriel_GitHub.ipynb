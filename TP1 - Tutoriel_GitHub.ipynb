{
 "cells": [
  {
   "cell_type": "markdown",
   "metadata": {
    "id": "xoGx_RAKWl10"
   },
   "source": [
    "# Tutoriel : Utilisation de GitHub avec Python\n",
    "Ce tutoriel montre comment utiliser GitHub et Git dans vos projets Python."
   ]
  },
  {
   "cell_type": "markdown",
   "metadata": {
    "id": "lssdEh8nWrga"
   },
   "source": [
    "## 1. Introduction à GitHub\n",
    "GitHub est une plateforme de gestion de version et de collaboration pour vos projets. Elle repose sur Git, un outil de contrôle de version distribué. Vous pouvez :  \n",
    "\n",
    "- Suivre l'historique des modifications  \n",
    "- Collaborer avec d'autres développeurs  \n",
    "- Héberger votre code en ligne  "
   ]
  },
  {
   "cell_type": "markdown",
   "metadata": {
    "id": "7lI321zIW6B5"
   },
   "source": [
    "## 2. Création d'un dépôt GitHub\n",
    "Créer un compte  \n",
    "Connectez-vous à votre compte GitHub  \n",
    "Cliquez sur New Repository  \n",
    "Donnez un nom à votre dépôt et choisissez si vous voulez qu'il soit public ou privé  \n",
    "Cliquez sur Create Repository  "
   ]
  },
  {
   "cell_type": "markdown",
   "metadata": {
    "id": "6x2ZnnYwXJMw"
   },
   "source": [
    "## 3. Ajout des données\n",
    "\n",
    "Dans votre repository vous allez ajouter différents notebooks et données."
   ]
  },
  {
   "cell_type": "markdown",
   "metadata": {
    "id": "AAqT3aDSXV3e"
   },
   "source": [
    "## 4. Manipulation de GitHUb de tiers\n",
    "\n",
    "La commande git clone est utilisée pour copier un dépôt Git existant, qu'il soit local ou hébergé sur une plateforme distante comme GitHub, GitLab ou Bitbucket. Cela permet d'obtenir une copie complète du projet, y compris tous les fichiers, l'historique des versions, et la configuration Git.    \n",
    "  \n",
    "**Fonctionnement**  \n",
    "Lorsque vous exécutez git clone :  \n",
    "\n",
    "\n",
    "*   Git télécharge une copie complète des fichiers du dépôt\n",
    "\n",
    "\n",
    "*   Il récupère l'historique des commits  \n",
    "\n",
    "*   Par défaut, Git configure automatiquement une branche distante appelée origin, qui pointe vers le dépôt original  \n",
    "\n"
   ]
  },
  {
   "cell_type": "markdown",
   "metadata": {
    "id": "l3eYEk6eYGyI"
   },
   "source": [
    "### Commandes bash de base :  \n",
    "ls : Liste les fichiers et dossiers  \n",
    "cd .. : Remonte au répertoire parent  \n",
    "cd ~ : Accède au répertoire personnel de l'utilisateur  \n",
    "cd - : Retourne au répertoire précédent  \n",
    "pwd - Afficher le chemin actuel  \n",
    "mkdir - Créer un répertoire   \n",
    "rm - Supprimer un fichier ou un répertoire  "
   ]
  },
  {
   "cell_type": "code",
   "execution_count": null,
   "metadata": {
    "colab": {
     "base_uri": "https://localhost:8080/"
    },
    "executionInfo": {
     "elapsed": 4005,
     "status": "ok",
     "timestamp": 1731516891388,
     "user": {
      "displayName": "Alison Patou",
      "userId": "17966795866743930044"
     },
     "user_tz": -60
    },
    "id": "wEYyLKGdcXkT",
    "outputId": "26db40d4-a8cc-40fd-a776-d1dd28759d28"
   },
   "outputs": [
    {
     "name": "stdout",
     "output_type": "stream",
     "text": [
      "Cloning into 'script'...\n",
      "remote: Enumerating objects: 60, done.\u001b[K\n",
      "remote: Counting objects: 100% (60/60), done.\u001b[K\n",
      "remote: Compressing objects: 100% (55/55), done.\u001b[K\n",
      "remote: Total 60 (delta 0), reused 0 (delta 0), pack-reused 0 (from 0)\u001b[K\n",
      "Receiving objects: 100% (60/60), 7.91 MiB | 5.81 MiB/s, done.\n"
     ]
    }
   ],
   "source": [
    "!git clone https://github.com/orkhoven/script.git"
   ]
  },
  {
   "cell_type": "code",
   "execution_count": 1,
   "metadata": {
    "colab": {
     "base_uri": "https://localhost:8080/"
    },
    "executionInfo": {
     "elapsed": 300,
     "status": "ok",
     "timestamp": 1731516897791,
     "user": {
      "displayName": "Alison Patou",
      "userId": "17966795866743930044"
     },
     "user_tz": -60
    },
    "id": "D_iBWKCnctnS",
    "outputId": "72037676-f3b9-4bed-e803-777f3f9d2d5f"
   },
   "outputs": [
    {
     "name": "stderr",
     "output_type": "stream",
     "text": [
      "'ls' n'est pas reconnu en tant que commande interne\n",
      "ou externe, un programme ex�cutable ou un fichier de commandes.\n"
     ]
    }
   ],
   "source": [
    "!ls"
   ]
  },
  {
   "cell_type": "code",
   "execution_count": null,
   "metadata": {
    "colab": {
     "base_uri": "https://localhost:8080/"
    },
    "executionInfo": {
     "elapsed": 259,
     "status": "ok",
     "timestamp": 1731516968338,
     "user": {
      "displayName": "Alison Patou",
      "userId": "17966795866743930044"
     },
     "user_tz": -60
    },
    "id": "E7uinJndc2Yq",
    "outputId": "9d6101de-6ff5-4d96-a829-3746e84c460b"
   },
   "outputs": [
    {
     "name": "stdout",
     "output_type": "stream",
     "text": [
      "/content/script\n"
     ]
    }
   ],
   "source": [
    "%cd /content/script"
   ]
  },
  {
   "cell_type": "code",
   "execution_count": null,
   "metadata": {
    "colab": {
     "base_uri": "https://localhost:8080/"
    },
    "executionInfo": {
     "elapsed": 254,
     "status": "ok",
     "timestamp": 1731516971197,
     "user": {
      "displayName": "Alison Patou",
      "userId": "17966795866743930044"
     },
     "user_tz": -60
    },
    "id": "wbhzEAN-c4uS",
    "outputId": "152d7ed1-40a4-489e-9209-ffdec894d6e2"
   },
   "outputs": [
    {
     "name": "stdout",
     "output_type": "stream",
     "text": [
      "'Auto WiFi Check'   'Image to ASCII'\t\t 'PDF to Audio'\t\t'Random Color Generator'\n",
      "'Duplicate Finder'   InstaDownloader\t\t 'QR Code Generator'\t'Selfie with Python'\n",
      " Emoji\t\t    'Password Generator'\t 'QR Code Scanner'\n",
      "'Face Reaction'     'Password Strength Checker'  'QR Ticket Generator'\n"
     ]
    }
   ],
   "source": [
    "!ls"
   ]
  },
  {
   "cell_type": "code",
   "execution_count": null,
   "metadata": {
    "colab": {
     "base_uri": "https://localhost:8080/"
    },
    "executionInfo": {
     "elapsed": 255,
     "status": "ok",
     "timestamp": 1731517019578,
     "user": {
      "displayName": "Alison Patou",
      "userId": "17966795866743930044"
     },
     "user_tz": -60
    },
    "id": "Y5N3aE7ldELh",
    "outputId": "15e23bdd-a1c8-4c65-84a1-342cbb9b7926"
   },
   "outputs": [
    {
     "name": "stdout",
     "output_type": "stream",
     "text": [
      "/content/script/Password Generator\n"
     ]
    }
   ],
   "source": [
    "%cd Password Generator"
   ]
  },
  {
   "cell_type": "code",
   "execution_count": null,
   "metadata": {
    "colab": {
     "base_uri": "https://localhost:8080/"
    },
    "executionInfo": {
     "elapsed": 3,
     "status": "ok",
     "timestamp": 1731517029536,
     "user": {
      "displayName": "Alison Patou",
      "userId": "17966795866743930044"
     },
     "user_tz": -60
    },
    "id": "Lo-Z8N6PdPwC",
    "outputId": "0aea0d2b-aa07-459c-8ea6-120f0b0963a5"
   },
   "outputs": [
    {
     "name": "stdout",
     "output_type": "stream",
     "text": [
      "PasswordGenerator.py\n"
     ]
    }
   ],
   "source": [
    "%ls"
   ]
  },
  {
   "cell_type": "markdown",
   "metadata": {
    "id": "I2VvGZnxYoe0"
   },
   "source": [
    "La commande python exécute un fichier Python à l'aide de l'interpréteur Python installé sur votre système."
   ]
  },
  {
   "cell_type": "code",
   "execution_count": null,
   "metadata": {
    "id": "JAVIzBTrZ_hU"
   },
   "outputs": [],
   "source": [
    "!python \"PasswordGenerator.py\""
   ]
  },
  {
   "cell_type": "markdown",
   "metadata": {
    "id": "gFZf63ryZXA8"
   },
   "source": [
    "# Mise en pratique  \n",
    "\n",
    "De la même manière, lancer l'ensemble des fichiers .py de ce git. Testez et répertoriez ce que chacun fait. Regardez aussi les limites de ce que vous pouvez lancer et exécuter corretemenet.\n"
   ]
  },
  {
   "cell_type": "code",
   "execution_count": null,
   "metadata": {
    "id": "czB_RAj_bxd1"
   },
   "outputs": [],
   "source": []
  },
  {
   "cell_type": "code",
   "execution_count": null,
   "metadata": {
    "id": "5n_gyDuKbxhl"
   },
   "outputs": [],
   "source": []
  },
  {
   "cell_type": "code",
   "execution_count": null,
   "metadata": {
    "id": "H5bTdl4ibxk6"
   },
   "outputs": [],
   "source": []
  },
  {
   "cell_type": "code",
   "execution_count": null,
   "metadata": {
    "id": "O1HNtpRDbxoN"
   },
   "outputs": [],
   "source": []
  }
 ],
 "metadata": {
  "colab": {
   "authorship_tag": "ABX9TyOLUXNkpOob4bLoAivlthi8",
   "provenance": []
  },
  "kernelspec": {
   "display_name": "Python 3",
   "name": "python3"
  },
  "language_info": {
   "codemirror_mode": {
    "name": "ipython",
    "version": 3
   },
   "file_extension": ".py",
   "mimetype": "text/x-python",
   "name": "python",
   "nbconvert_exporter": "python",
   "pygments_lexer": "ipython3",
   "version": "3.12.1"
  }
 },
 "nbformat": 4,
 "nbformat_minor": 0
}
